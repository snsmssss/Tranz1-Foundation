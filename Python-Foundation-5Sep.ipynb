{
 "cells": [
  {
   "cell_type": "code",
   "execution_count": null,
   "id": "b9da4e75",
   "metadata": {},
   "outputs": [],
   "source": [
    "# Boolean Data Type\n",
    "When you compare two values, the expression is evaluated and Python returns the Boolean answer:"
   ]
  },
  {
   "cell_type": "code",
   "execution_count": 83,
   "id": "c4dff136",
   "metadata": {},
   "outputs": [
    {
     "name": "stdout",
     "output_type": "stream",
     "text": [
      "True\n"
     ]
    }
   ],
   "source": [
    "print(10>8)"
   ]
  },
  {
   "cell_type": "code",
   "execution_count": 86,
   "id": "08e6f661",
   "metadata": {},
   "outputs": [
    {
     "name": "stdout",
     "output_type": "stream",
     "text": [
      "False\n"
     ]
    },
    {
     "data": {
      "text/plain": [
       "NoneType"
      ]
     },
     "execution_count": 86,
     "metadata": {},
     "output_type": "execute_result"
    }
   ],
   "source": [
    "print(12 > 24)"
   ]
  },
  {
   "cell_type": "code",
   "execution_count": 87,
   "id": "afb6e7b7",
   "metadata": {},
   "outputs": [
    {
     "data": {
      "text/plain": [
       "bool"
      ]
     },
     "execution_count": 87,
     "metadata": {},
     "output_type": "execute_result"
    }
   ],
   "source": [
    "a = True\n",
    "type(a)"
   ]
  },
  {
   "cell_type": "markdown",
   "id": "6296b802",
   "metadata": {},
   "source": [
    "In List and Tuples, you can mix data types and within that sub-indexing is also allowed"
   ]
  },
  {
   "cell_type": "code",
   "execution_count": 81,
   "id": "a7092ed4",
   "metadata": {},
   "outputs": [],
   "source": [
    "a=10.1\n",
    "b=13.2\n",
    "mixlist=[12,90.78,\"apple\",\"hi\",True,False,[a,b,False]]"
   ]
  },
  {
   "cell_type": "markdown",
   "id": "2005e10b",
   "metadata": {},
   "source": [
    "mixlist[2][0]"
   ]
  },
  {
   "cell_type": "code",
   "execution_count": null,
   "id": "52a80989",
   "metadata": {},
   "outputs": [],
   "source": [
    "# convert from tuple to list and vice versa"
   ]
  },
  {
   "cell_type": "code",
   "execution_count": 89,
   "id": "5451a00a",
   "metadata": {},
   "outputs": [
    {
     "data": {
      "text/plain": [
       "(0, 2, 4, 6, 8)"
      ]
     },
     "execution_count": 89,
     "metadata": {},
     "output_type": "execute_result"
    }
   ],
   "source": [
    "# Example 1: Convert the tuple to a list\n",
    "tuples = (0, 2, 4, 6, 8)\n",
    "mylist = list(tuples)\n",
    "mylist\n",
    "mytuple=tuple(mylist)\n",
    "mytuple"
   ]
  },
  {
   "cell_type": "markdown",
   "id": "2a6e03f7",
   "metadata": {},
   "source": [
    "Dictionary items are ordered, changeable, and does not allow duplicates.\n",
    "\n",
    "Dictionary items are presented in key:value pairs, and can be referred to by using the key name."
   ]
  },
  {
   "cell_type": "code",
   "execution_count": 31,
   "id": "860e1131",
   "metadata": {},
   "outputs": [
    {
     "name": "stdout",
     "output_type": "stream",
     "text": [
      "{'1': 'plane', '2': 'train', '3': 300}\n"
     ]
    }
   ],
   "source": [
    "dz = {\"1\":'plane', \"2\":'train', \"3\":300}\n",
    "print(dz)"
   ]
  },
  {
   "cell_type": "code",
   "execution_count": 24,
   "id": "19bc4f7c",
   "metadata": {},
   "outputs": [
    {
     "name": "stdout",
     "output_type": "stream",
     "text": [
      "['plane', 'helicopter'] bus\n"
     ]
    }
   ],
   "source": [
    "dz = {\"1\":['plane','helicopter'], \"2\":'train', \"3\":'bus'}\n",
    "print(dz[\"1\"],dz[\"3\"])\n"
   ]
  },
  {
   "cell_type": "markdown",
   "id": "8892bb86",
   "metadata": {},
   "source": [
    "Does not allow duplicates.Only the last value will be taken.Don't use it this way"
   ]
  },
  {
   "cell_type": "code",
   "execution_count": 47,
   "id": "41f4684a",
   "metadata": {},
   "outputs": [
    {
     "name": "stdout",
     "output_type": "stream",
     "text": [
      "{'brand': 'Maruti', 'model': 'Swift', 'year': 2000}\n"
     ]
    }
   ],
   "source": [
    "cardict = {\n",
    "  \"brand\": \"Maruti\",\n",
    "  \"model\": \"Swift\",\n",
    "  \"year\": 2018,\n",
    "  \"year\": 2000\n",
    "}\n",
    "print(cardict)"
   ]
  },
  {
   "cell_type": "code",
   "execution_count": 37,
   "id": "58aa1caf",
   "metadata": {},
   "outputs": [
    {
     "name": "stdout",
     "output_type": "stream",
     "text": [
      "2000\n"
     ]
    }
   ],
   "source": [
    "print(cardict[\"year\"])"
   ]
  },
  {
   "cell_type": "code",
   "execution_count": 39,
   "id": "a90aa9a9",
   "metadata": {},
   "outputs": [
    {
     "name": "stdout",
     "output_type": "stream",
     "text": [
      "the value of a = 200\n",
      "300\n"
     ]
    }
   ],
   "source": [
    "#Break a single line into multiple lines\n",
    "a = 200\n",
    "if a > 100:\n",
    "    print(\"the value of a =\",a)\n",
    "b = 300\n",
    "if b \\\n",
    "    > 200:\n",
    "        print(b)"
   ]
  },
  {
   "cell_type": "code",
   "execution_count": 48,
   "id": "ec2b99cc",
   "metadata": {},
   "outputs": [],
   "source": [
    "#Change the values\n",
    "cardict = {\n",
    "  \"brand\": \"Maruti\",\n",
    "  \"model\": \"Swift\",\n",
    "  \"year\": 2018\n",
    "}\n",
    "cardict[\"year\"]=2019"
   ]
  },
  {
   "cell_type": "code",
   "execution_count": 49,
   "id": "5d38cfde",
   "metadata": {},
   "outputs": [
    {
     "name": "stdout",
     "output_type": "stream",
     "text": [
      "2019\n"
     ]
    }
   ],
   "source": [
    "print(cardict[\"year\"])"
   ]
  },
  {
   "cell_type": "code",
   "execution_count": 53,
   "id": "73528335",
   "metadata": {},
   "outputs": [
    {
     "name": "stdout",
     "output_type": "stream",
     "text": [
      "{'brand': 'Maruti', 'year': 2018}\n"
     ]
    }
   ],
   "source": [
    "#Delete the values\n",
    "cardict = {\n",
    "  \"brand\": \"Maruti\",\n",
    "  \"model\": \"Swift\",\n",
    "  \"year\": 2018\n",
    "}\n",
    "cardict.pop(\"model\")\n",
    "print(cardict)"
   ]
  },
  {
   "cell_type": "code",
   "execution_count": 51,
   "id": "66f09f63",
   "metadata": {},
   "outputs": [
    {
     "name": "stdout",
     "output_type": "stream",
     "text": [
      "{'brand': 'Maruti', 'model': 'Swift', 'year': 2018}\n"
     ]
    }
   ],
   "source": [
    "#copy one dictionary to the other dictionary\n",
    "cardict = {\n",
    "  \"brand\": \"Maruti\",\n",
    "  \"model\": \"Swift\",\n",
    "  \"year\": 2018\n",
    "}\n",
    "newdict = cardict.copy()\n",
    "print(newdict)"
   ]
  },
  {
   "cell_type": "code",
   "execution_count": null,
   "id": "be617288",
   "metadata": {},
   "outputs": [],
   "source": [
    "#Sets are used to store multiple items in a single variable.\n",
    "#Set is one of 4 built-in data types in Python used to store collections of data,\n",
    "#the other 3 are List, Tuple, and Dictionary, all with different qualities and usage\n",
    "#unordered,can't change but remove and add"
   ]
  },
  {
   "cell_type": "code",
   "execution_count": 54,
   "id": "a09eed47",
   "metadata": {},
   "outputs": [
    {
     "name": "stdout",
     "output_type": "stream",
     "text": [
      "{'medicines', 'clothes', 'valet', 'phone', 'toiletry'}\n"
     ]
    }
   ],
   "source": [
    "travelset={\"valet\",\"clothes\",\"phone\",\"medicines\",\"toiletry\"}\n",
    "print(travelset)"
   ]
  },
  {
   "cell_type": "code",
   "execution_count": 57,
   "id": "713119c3",
   "metadata": {},
   "outputs": [
    {
     "name": "stdout",
     "output_type": "stream",
     "text": [
      "{'medicines', 'clothes', 'toiletry', 'valet'}\n"
     ]
    }
   ],
   "source": [
    "#duplicates not allowed\n",
    "travelset={\"valet\",\"clothes\",\"clothes\",\"medicines\",\"toiletry\"}\n",
    "print(travelset)"
   ]
  },
  {
   "cell_type": "code",
   "execution_count": 58,
   "id": "1c89d44d",
   "metadata": {},
   "outputs": [
    {
     "name": "stdout",
     "output_type": "stream",
     "text": [
      "{True, 2, 'valet', 'clothes', 'phone'}\n"
     ]
    }
   ],
   "source": [
    "#True & 1 are same and duplicates not allowed\n",
    "someset={\"valet\",\"clothes\",\"phone\",True,1,2}\n",
    "print(someset)"
   ]
  },
  {
   "cell_type": "code",
   "execution_count": null,
   "id": "77537605",
   "metadata": {},
   "outputs": [],
   "source": [
    "#Python supports the usual logical conditions from mathematics:\n",
    "\n",
    "#Equals: a == b\n",
    "#Not Equals: a != b\n",
    "#Less than: a < b\n",
    "#Less than or equal to: a <= b\n",
    "#Greater than: a > b\n",
    "#Greater than or equal to: a >= b"
   ]
  },
  {
   "cell_type": "code",
   "execution_count": 59,
   "id": "64f24e4a",
   "metadata": {},
   "outputs": [
    {
     "name": "stdout",
     "output_type": "stream",
     "text": [
      "b is greater than a\n"
     ]
    }
   ],
   "source": [
    "a = 33\n",
    "b = 200\n",
    "if b > a:\n",
    "  print(\"b is greater than a\")"
   ]
  },
  {
   "cell_type": "code",
   "execution_count": null,
   "id": "3ca4128e",
   "metadata": {},
   "outputs": [],
   "source": [
    "#Yesterday we saw no-indentation following if statement throws an error"
   ]
  },
  {
   "cell_type": "code",
   "execution_count": 60,
   "id": "cb9aafa4",
   "metadata": {},
   "outputs": [
    {
     "name": "stdout",
     "output_type": "stream",
     "text": [
      "x is greater than y\n"
     ]
    }
   ],
   "source": [
    "x = 300\n",
    "y = 43\n",
    "if y > x:\n",
    "  print(\"y is greater than x\")\n",
    "elif x == y:\n",
    "  print(\"x and y are equal\")\n",
    "else:\n",
    "  print(\"x is greater than y\")"
   ]
  },
  {
   "cell_type": "code",
   "execution_count": 63,
   "id": "f6ffefcc",
   "metadata": {},
   "outputs": [
    {
     "name": "stdout",
     "output_type": "stream",
     "text": [
      "y is greater than x\n"
     ]
    }
   ],
   "source": [
    "# can have else only without elif\n",
    "y = 200\n",
    "x = 33\n",
    "if y > x:\n",
    "  print(\"y is greater than x\")\n",
    "else:\n",
    "  print(\"y is not greater than x\")"
   ]
  },
  {
   "cell_type": "code",
   "execution_count": null,
   "id": "193abf33",
   "metadata": {},
   "outputs": [],
   "source": [
    "#The and keyword is a logical operator, and is used to combine conditional statements:"
   ]
  },
  {
   "cell_type": "code",
   "execution_count": 65,
   "id": "46b2b64f",
   "metadata": {},
   "outputs": [
    {
     "name": "stdout",
     "output_type": "stream",
     "text": [
      "Both conditions are True\n"
     ]
    }
   ],
   "source": [
    "P = 200\n",
    "Q = 33\n",
    "R = 500\n",
    "if P > Q and R > P:\n",
    "  print(\"Both conditions are True\")"
   ]
  },
  {
   "cell_type": "code",
   "execution_count": 66,
   "id": "2deaccf1",
   "metadata": {},
   "outputs": [],
   "source": [
    "#Test if a is greater than b, OR if a is greater than c:"
   ]
  },
  {
   "cell_type": "code",
   "execution_count": null,
   "id": "b0cc4033",
   "metadata": {},
   "outputs": [],
   "source": [
    "P = 200\n",
    "Q = 33\n",
    "R = 500\n",
    "if P > Q or R > P:\n",
    "  print(\"atleast one condition is True\")"
   ]
  },
  {
   "cell_type": "code",
   "execution_count": null,
   "id": "50ea7bbf",
   "metadata": {},
   "outputs": [],
   "source": [
    "#You can have if statements inside if statements, this is called nested if statements."
   ]
  },
  {
   "cell_type": "code",
   "execution_count": 69,
   "id": "54ac5e7b",
   "metadata": {},
   "outputs": [
    {
     "name": "stdout",
     "output_type": "stream",
     "text": [
      "P greater than 50\n",
      "P less than 75 but greater than 50\n"
     ]
    }
   ],
   "source": [
    "P = 60\n",
    "if P > 50:\n",
    "    print(\"P greater than 50\")\n",
    "    if P > 75:\n",
    "        print(\"P greater than 75\")\n",
    "    else:\n",
    "        print(\"P less than 75 but greater than 50\")\n",
    "        "
   ]
  },
  {
   "cell_type": "markdown",
   "id": "f69f537c",
   "metadata": {},
   "source": [
    "# For Loops\n",
    "A for loop is used for iterating over a sequence \n",
    "(that is either a list, a tuple, a dictionary, a set, or a string).\n",
    "\n",
    "works more like an iterator method as found in other object-orientated programming languages."
   ]
  },
  {
   "cell_type": "code",
   "execution_count": 70,
   "id": "b3bdb198",
   "metadata": {},
   "outputs": [
    {
     "name": "stdout",
     "output_type": "stream",
     "text": [
      "Hyundai\n",
      "Kia\n",
      "Honda\n"
     ]
    }
   ],
   "source": [
    "cars = [\"Hyundai\", \"Kia\", \"Honda\"]\n",
    "for c in cars:\n",
    "  print(c)"
   ]
  },
  {
   "cell_type": "code",
   "execution_count": 71,
   "id": "12b1c447",
   "metadata": {},
   "outputs": [
    {
     "name": "stdout",
     "output_type": "stream",
     "text": [
      "a\n",
      "d\n",
      "i\n",
      "t\n",
      "y\n",
      "a\n",
      "m\n",
      "i\n",
      "s\n",
      "s\n",
      "i\n",
      "o\n",
      "n\n"
     ]
    }
   ],
   "source": [
    "#iterate over a string\n",
    "for i in \"adityamission\":\n",
    "  print(i)"
   ]
  },
  {
   "cell_type": "markdown",
   "id": "8fbb84e7",
   "metadata": {},
   "source": [
    "# The break Statement\n",
    "\n",
    "With the break statement we can stop the loop before it has looped through all the items:"
   ]
  },
  {
   "cell_type": "code",
   "execution_count": 75,
   "id": "31cc65a9",
   "metadata": {},
   "outputs": [
    {
     "name": "stdout",
     "output_type": "stream",
     "text": [
      "The planet name is  moon\n",
      "The planet name is  mars\n"
     ]
    }
   ],
   "source": [
    "#Exit the loop when p is \"mars\":\n",
    "for p in [\"moon\", \"mars\", \"sun\",\"neptune\"]:\n",
    "    print(\"The planet name is \",p)\n",
    "    if p == \"mars\":\n",
    "        break\n",
    "    \n",
    "        "
   ]
  },
  {
   "cell_type": "code",
   "execution_count": 76,
   "id": "2d3a0ff0",
   "metadata": {},
   "outputs": [
    {
     "name": "stdout",
     "output_type": "stream",
     "text": [
      "The planet name is  moon\n",
      "The planet name is  mars\n",
      "The planet name is  sun\n"
     ]
    }
   ],
   "source": [
    "#continue & don't act when p is neptune\n",
    "for p in [\"moon\", \"mars\", \"sun\",\"neptune\"]:\n",
    "    if p == \"neptune\":\n",
    "        continue\n",
    "    print(\"The planet name is \",p)"
   ]
  },
  {
   "cell_type": "markdown",
   "id": "5bebeb2f",
   "metadata": {},
   "source": [
    "# The range() Function\n",
    "To loop through a set of code a specified number of times, we can use the range() function,"
   ]
  },
  {
   "cell_type": "code",
   "execution_count": 79,
   "id": "bf83df19",
   "metadata": {},
   "outputs": [
    {
     "name": "stdout",
     "output_type": "stream",
     "text": [
      "3\n",
      "4\n",
      "5\n"
     ]
    }
   ],
   "source": [
    "for x in range(3,6):\n",
    "  print(x)"
   ]
  },
  {
   "cell_type": "markdown",
   "id": "1eb3256a",
   "metadata": {},
   "source": [
    "# The while Loop\n",
    "\n",
    "With the while loop we can execute a set of statements as long as a condition is true."
   ]
  },
  {
   "cell_type": "code",
   "execution_count": 80,
   "id": "20549f49",
   "metadata": {},
   "outputs": [
    {
     "name": "stdout",
     "output_type": "stream",
     "text": [
      "1\n",
      "2\n",
      "3\n",
      "4\n",
      "5\n"
     ]
    }
   ],
   "source": [
    "i = 1\n",
    "while i < 6:\n",
    "  print(i)\n",
    "  i += 1"
   ]
  },
  {
   "cell_type": "code",
   "execution_count": null,
   "id": "ea4b1be5",
   "metadata": {},
   "outputs": [],
   "source": []
  }
 ],
 "metadata": {
  "kernelspec": {
   "display_name": "Python 3 (ipykernel)",
   "language": "python",
   "name": "python3"
  },
  "language_info": {
   "codemirror_mode": {
    "name": "ipython",
    "version": 3
   },
   "file_extension": ".py",
   "mimetype": "text/x-python",
   "name": "python",
   "nbconvert_exporter": "python",
   "pygments_lexer": "ipython3",
   "version": "3.11.4"
  }
 },
 "nbformat": 4,
 "nbformat_minor": 5
}
