{
 "cells": [
  {
   "cell_type": "code",
   "execution_count": null,
   "id": "66a8ea95",
   "metadata": {},
   "outputs": [],
   "source": [
    "#A function is a block of code which only runs when it is called.\n",
    "#You can pass data,into a function.\n",
    "#A function can return data as a result."
   ]
  },
  {
   "cell_type": "code",
   "execution_count": 5,
   "id": "af82cc23",
   "metadata": {},
   "outputs": [],
   "source": [
    "#def is a function key word\n",
    "def first_function():\n",
    "  print(\"Hello from the first function\")"
   ]
  },
  {
   "cell_type": "code",
   "execution_count": 6,
   "id": "43305e1f",
   "metadata": {},
   "outputs": [
    {
     "name": "stdout",
     "output_type": "stream",
     "text": [
      "Hello from the first function\n"
     ]
    }
   ],
   "source": [
    "first_function()"
   ]
  },
  {
   "cell_type": "code",
   "execution_count": 8,
   "id": "a625f41a",
   "metadata": {},
   "outputs": [
    {
     "name": "stdout",
     "output_type": "stream",
     "text": [
      "Mahatma Gandhi\n",
      "Kasturba Gandhi\n",
      "Devdas Gandhi\n"
     ]
    }
   ],
   "source": [
    "#Arguments are specified after the function name, inside the parentheses.\n",
    "#You can add as many arguments as you want, just separate them with a comma.\n",
    "def second_function(firstname):\n",
    "  print(firstname + \" Gandhi\")\n",
    "\n",
    "second_function(\"Mahatma\")\n",
    "second_function(\"Kasturba\")\n",
    "second_function(\"Devdas\")"
   ]
  },
  {
   "cell_type": "code",
   "execution_count": 20,
   "id": "8b6bd9b9",
   "metadata": {},
   "outputs": [],
   "source": [
    "# some more functions\n",
    "# 1 is not a prime\n",
    "# 2, 3 are prime\n",
    "def is_prime_or_not(p):\n",
    "    if p in [2, 3]:\n",
    "        return True\n",
    "    if (p == 1) or (p % 2 == 0):\n",
    "        return False\n",
    "    p = 3\n",
    "    while p * p <= p:\n",
    "        if p % k == 0:\n",
    "            return False\n",
    "        k += 2\n",
    "    return True"
   ]
  },
  {
   "cell_type": "code",
   "execution_count": 21,
   "id": "d25df36c",
   "metadata": {},
   "outputs": [
    {
     "name": "stdout",
     "output_type": "stream",
     "text": [
      "True True\n"
     ]
    }
   ],
   "source": [
    "print(is_prime_or_not(1729), is_prime_or_not(29))"
   ]
  },
  {
   "cell_type": "code",
   "execution_count": 22,
   "id": "2c602624",
   "metadata": {},
   "outputs": [
    {
     "name": "stdout",
     "output_type": "stream",
     "text": [
      "The youngest child is Tobias\n"
     ]
    }
   ],
   "source": [
    "#if you don't know number of inputs\n",
    "def my_function(*kids):\n",
    "  print(\"The youngest child is \" + kids[1])\n",
    "\n",
    "my_function(\"Emil\", \"Tobias\", \"Linus\")"
   ]
  },
  {
   "cell_type": "code",
   "execution_count": 23,
   "id": "80ef35dd",
   "metadata": {},
   "outputs": [],
   "source": [
    "#You can also send arguments with the key = value syntax.\n",
    "#This way the order of the arguments does not matter.\n",
    "def my_function(child3, child2, child1):\n",
    "    print(\"The youngest child is \" + child3)"
   ]
  },
  {
   "cell_type": "code",
   "execution_count": 24,
   "id": "0172acd2",
   "metadata": {},
   "outputs": [
    {
     "name": "stdout",
     "output_type": "stream",
     "text": [
      "The youngest child is Linus\n"
     ]
    }
   ],
   "source": [
    "my_function(child1 = \"Emil\", child2 = \"Tobias\", child3 = \"Linus\")"
   ]
  },
  {
   "cell_type": "code",
   "execution_count": 29,
   "id": "03ef8bf7",
   "metadata": {},
   "outputs": [],
   "source": [
    "#you can pass a list or tuple or a set as a parameter\n",
    "def my_function(food):\n",
    "  for x in food:\n",
    "    print(x)\n",
    "\n",
    "fruits = {\"apple\", \"banana\", \"cherry\"}"
   ]
  },
  {
   "cell_type": "code",
   "execution_count": 30,
   "id": "057414b6",
   "metadata": {},
   "outputs": [
    {
     "name": "stdout",
     "output_type": "stream",
     "text": [
      "apple\n",
      "cherry\n",
      "banana\n"
     ]
    }
   ],
   "source": [
    "my_function(fruits)"
   ]
  },
  {
   "cell_type": "code",
   "execution_count": 31,
   "id": "37c3bcb2",
   "metadata": {},
   "outputs": [],
   "source": [
    "#Recursion\n",
    "#Python also accepts function recursion.\n",
    "#Recursion means that a function calls itself. \n",
    "#\n",
    "#The developer should be very careful with recursion as it can be quite easy to\n",
    "#slip into writing a function which never terminates, or one that uses\n",
    "#excess amounts of memory or processor power.However, when written correctly recursion\n",
    "#can be a very efficient and mathematically-elegant approach to programming.\n",
    "#In this example, recursion_example() is a function that we have defined to call itself (\"recurse\")."
   ]
  },
  {
   "cell_type": "code",
   "execution_count": 44,
   "id": "f69bd4e4",
   "metadata": {},
   "outputs": [],
   "source": [
    "def recursion_example(k):\n",
    "  if(k > 0):\n",
    "    result = k + recursion_example(k - 1)\n",
    "    print(result)\n",
    "  else:\n",
    "    result = 0\n",
    "  return result"
   ]
  },
  {
   "cell_type": "code",
   "execution_count": 45,
   "id": "53da716d",
   "metadata": {},
   "outputs": [
    {
     "name": "stdout",
     "output_type": "stream",
     "text": [
      "\n",
      "\n",
      "Recursion Example Results\n",
      "1\n",
      "3\n",
      "6\n",
      "10\n",
      "15\n",
      "21\n"
     ]
    },
    {
     "data": {
      "text/plain": [
       "21"
      ]
     },
     "execution_count": 45,
     "metadata": {},
     "output_type": "execute_result"
    }
   ],
   "source": [
    "print(\"\\n\\nRecursion Example Results\")\n",
    "recursion_example(6)"
   ]
  },
  {
   "cell_type": "code",
   "execution_count": 46,
   "id": "d2693d60",
   "metadata": {},
   "outputs": [],
   "source": [
    "#A lambda function is a small anonymous function.\n",
    "#A lambda function can take any number of arguments, but can only have one expression.\n",
    "#Multiply the argument by 10 and return the result:"
   ]
  },
  {
   "cell_type": "code",
   "execution_count": 48,
   "id": "0c4fbde5",
   "metadata": {},
   "outputs": [
    {
     "name": "stdout",
     "output_type": "stream",
     "text": [
      "5000\n"
     ]
    }
   ],
   "source": [
    "x = lambda y : y*10\n",
    "print(x(500))"
   ]
  },
  {
   "cell_type": "code",
   "execution_count": 59,
   "id": "d3b3ccbc",
   "metadata": {},
   "outputs": [],
   "source": [
    "#Python Classes/Objects\n",
    "#Python is an object oriented programming language.\n",
    "#A Class is like an object constructor, or a \"blueprint\" for creating objects."
   ]
  },
  {
   "cell_type": "code",
   "execution_count": 60,
   "id": "cb337b0d",
   "metadata": {},
   "outputs": [],
   "source": [
    "#The __init__() Function\n",
    "#All classes have a function called __init__(), which is always executed when the class is being initiated.\n",
    "#Use the __init__() function to assign values to object properties, or other operations that are necessary\n",
    "#to do when the object is being created:\n",
    "#__init__() method\n",
    "The __init__ method is similar to constructors in C++ and Java. \n",
    "#Constructors are used to initializing the object’s state.\n",
    "#Like methods, a constructor also contains a collection of statements(i.e. instructions)\n",
    "#that are executed at the time of Object creation.\n",
    "#It runs as soon as an object of a class is instantiated.\n",
    "#\n",
    "The method is useful to do any initialization you want to do with your object."
   ]
  },
  {
   "cell_type": "code",
   "execution_count": 65,
   "id": "dd1bdfa3",
   "metadata": {},
   "outputs": [],
   "source": [
    "class School:\n",
    "  def __init__(self, name, s_id, class_section):\n",
    "    self.name = name\n",
    "    self.s_id = s_id\n",
    "    self.class_section = class_section"
   ]
  },
  {
   "cell_type": "code",
   "execution_count": 66,
   "id": "0447ab9c",
   "metadata": {},
   "outputs": [
    {
     "name": "stdout",
     "output_type": "stream",
     "text": [
      "Student's Name is         John\n",
      "Registration Number is    1369\n",
      "Standard and section are  VIII-A\n"
     ]
    }
   ],
   "source": [
    "\n",
    "p1 = School(\"John\", \"1369\", \"VIII-A\")\n",
    "print(\"Student's Name is        \",p1.name)\n",
    "print(\"Registration Number is   \",p1.s_id)\n",
    "print(\"Standard and section are \",p1.class_section)"
   ]
  },
  {
   "cell_type": "code",
   "execution_count": 80,
   "id": "f11673c8",
   "metadata": {},
   "outputs": [],
   "source": [
    "#The string representation of an object WITH the __str__() function\n",
    "class School_class:\n",
    "  def __init__(self, name, s_id, class_section):\n",
    "    self.name = name\n",
    "    self.s_id = s_id\n",
    "    self.class_section = class_section\n",
    "  def __str__(self):\n",
    "    return f\"{self.name}({self.s_id},{self.class_section})\""
   ]
  },
  {
   "cell_type": "code",
   "execution_count": 81,
   "id": "ccfa6860",
   "metadata": {},
   "outputs": [],
   "source": [
    "p1 = School_class(\"Pragyan\", \"1369\", \"VIII-A\")"
   ]
  },
  {
   "cell_type": "code",
   "execution_count": 82,
   "id": "84cc7c19",
   "metadata": {},
   "outputs": [
    {
     "name": "stdout",
     "output_type": "stream",
     "text": [
      "Pragyan(1369,VIII-A)\n"
     ]
    }
   ],
   "source": [
    "print(p1)"
   ]
  },
  {
   "cell_type": "code",
   "execution_count": 83,
   "id": "d5150d59",
   "metadata": {},
   "outputs": [],
   "source": [
    "#Object Methods\n",
    "#Objects can also contain methods or functions.\n",
    "#Functions/methods that are inside objects are functions/methods that belong to the object.\n",
    "#Self Parameter -When we call a method of this object as myobject.method(arg1, arg2), \n",
    "#this is automatically converted by Python into MyClass.method(myobject, arg1, arg2) –\n",
    "#this is all the special self is about. \n",
    "class School_class:\n",
    "  def __init__(self, name, s_id, class_section):\n",
    "    self.name = name\n",
    "    self.s_id = s_id\n",
    "    self.class_section = class_section\n",
    "  def __str__(self):\n",
    "    return f\"{self.name}({self.s_id},{self.class_section})\"\n",
    "  def myfunc(self):\n",
    "    print(\"Hello my name is \" + self.name)"
   ]
  },
  {
   "cell_type": "code",
   "execution_count": 84,
   "id": "155452ed",
   "metadata": {},
   "outputs": [],
   "source": [
    "p1 = School_class(\"Pragyan\", \"1369\", \"VIII-A\")"
   ]
  },
  {
   "cell_type": "code",
   "execution_count": 85,
   "id": "e6e5b4f0",
   "metadata": {},
   "outputs": [
    {
     "name": "stdout",
     "output_type": "stream",
     "text": [
      "Pragyan(1369,VIII-A)\n",
      "Hello my name is Pragyan\n"
     ]
    }
   ],
   "source": [
    "print(p1)\n",
    "p1.myfunc()"
   ]
  },
  {
   "cell_type": "code",
   "execution_count": null,
   "id": "d81f01cd",
   "metadata": {},
   "outputs": [],
   "source": [
    "# Complete the program \n",
    "#class called Time\n",
    "#given in 7.7. Time https://www.openbookproject.net/books/bpp4awd/ch07.html"
   ]
  },
  {
   "cell_type": "code",
   "execution_count": 92,
   "id": "fed9d3d2",
   "metadata": {},
   "outputs": [],
   "source": [
    "class GFG:\n",
    "    def __init__(self, name, company):\n",
    "        self.name = name\n",
    "        self.company = company\n",
    "\n",
    "    def show(self):\n",
    "        print(\"Hello my name is \" + self.name+\" and I\" +\" work in \"+self.company+\".\")"
   ]
  },
  {
   "cell_type": "code",
   "execution_count": 93,
   "id": "828d25aa",
   "metadata": {},
   "outputs": [
    {
     "name": "stdout",
     "output_type": "stream",
     "text": [
      "Hello my name is Vikram and I work in Ernest & Young.\n"
     ]
    }
   ],
   "source": [
    "obj = GFG(\"Vikram\", \"Ernest & Young\")\n",
    "obj.show()"
   ]
  },
  {
   "cell_type": "code",
   "execution_count": 95,
   "id": "2253c0b7",
   "metadata": {},
   "outputs": [
    {
     "name": "stdout",
     "output_type": "stream",
     "text": [
      "Hello my name is Abi and I work in CTS.\n"
     ]
    }
   ],
   "source": [
    "class Friend(GFG):\n",
    "    pass\n",
    "x = Friend(\"Abi\", \"CTS\")\n",
    "x.show()"
   ]
  },
  {
   "cell_type": "code",
   "execution_count": null,
   "id": "585f097e",
   "metadata": {},
   "outputs": [],
   "source": []
  }
 ],
 "metadata": {
  "kernelspec": {
   "display_name": "Python 3 (ipykernel)",
   "language": "python",
   "name": "python3"
  },
  "language_info": {
   "codemirror_mode": {
    "name": "ipython",
    "version": 3
   },
   "file_extension": ".py",
   "mimetype": "text/x-python",
   "name": "python",
   "nbconvert_exporter": "python",
   "pygments_lexer": "ipython3",
   "version": "3.11.4"
  }
 },
 "nbformat": 4,
 "nbformat_minor": 5
}
