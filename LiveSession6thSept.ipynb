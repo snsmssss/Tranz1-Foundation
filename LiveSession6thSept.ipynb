{
 "cells": [
  {
   "cell_type": "code",
   "execution_count": null,
   "id": "34772f89",
   "metadata": {},
   "outputs": [],
   "source": [
    "# A function is a block of code which only runs when it is called\n",
    "#You can pass parameters, data, input\n",
    "#A function can also return a value"
   ]
  },
  {
   "cell_type": "code",
   "execution_count": 2,
   "id": "4e31f7d1",
   "metadata": {},
   "outputs": [],
   "source": [
    "#def first function of mine\n",
    "def first_function():\n",
    "    print(\"Hello from the first function\")"
   ]
  },
  {
   "cell_type": "code",
   "execution_count": 3,
   "id": "9dcaa396",
   "metadata": {},
   "outputs": [
    {
     "name": "stdout",
     "output_type": "stream",
     "text": [
      "Hello from the first function\n"
     ]
    }
   ],
   "source": [
    "first_function()"
   ]
  },
  {
   "cell_type": "code",
   "execution_count": 6,
   "id": "d11f7de6",
   "metadata": {},
   "outputs": [],
   "source": [
    "#Arguments are specified after the function name, inside the paranthesis\n",
    "#you can add as many parameters as you want, but separate with comma\n",
    "def second_function(firstname):\n",
    "    print(firstname + \" Gandhi\")"
   ]
  },
  {
   "cell_type": "code",
   "execution_count": 7,
   "id": "6d8a0184",
   "metadata": {},
   "outputs": [
    {
     "name": "stdout",
     "output_type": "stream",
     "text": [
      "Mahatma Gandhi\n",
      "Kasturba Gandhi\n",
      "Devadas Gandhi\n"
     ]
    }
   ],
   "source": [
    "second_function(\"Mahatma\")\n",
    "second_function(\"Kasturba\")\n",
    "second_function(\"Devadas\")"
   ]
  },
  {
   "cell_type": "code",
   "execution_count": 31,
   "id": "5a1fd7d9",
   "metadata": {},
   "outputs": [],
   "source": [
    "# math operation\n",
    "# 1 is not a prime\n",
    "# 2 and 3 are prime numbers\n",
    "def is_prime_or_not(p):\n",
    "    if p in [2,3]:\n",
    "        return True\n",
    "    if (p == 1) or (p % 2==0):\n",
    "        return False\n",
    "    k = 3\n",
    "    while k*k <= p:\n",
    "        if p % k == 0:\n",
    "            return False\n",
    "        k += 2\n",
    "    return True"
   ]
  },
  {
   "cell_type": "code",
   "execution_count": 32,
   "id": "cf920652",
   "metadata": {},
   "outputs": [
    {
     "name": "stdout",
     "output_type": "stream",
     "text": [
      "False\n"
     ]
    }
   ],
   "source": [
    "print(is_prime_or_not(1729))"
   ]
  },
  {
   "cell_type": "code",
   "execution_count": 19,
   "id": "b07d4e13",
   "metadata": {},
   "outputs": [],
   "source": [
    "#if you don't know clearly the input\n",
    "def my_function(*kids):\n",
    "    print(\"The youngest child is \" + kids[2])\n",
    "    "
   ]
  },
  {
   "cell_type": "code",
   "execution_count": 20,
   "id": "f740be7e",
   "metadata": {},
   "outputs": [
    {
     "name": "stdout",
     "output_type": "stream",
     "text": [
      "The youngest child is Linus\n"
     ]
    }
   ],
   "source": [
    "my_function(\"Emil\", \"Tobias\", \"Linus\")"
   ]
  },
  {
   "cell_type": "code",
   "execution_count": 22,
   "id": "a9ce8691",
   "metadata": {},
   "outputs": [],
   "source": [
    "def my_function(food):\n",
    "    for x in food:\n",
    "        print(x)"
   ]
  },
  {
   "cell_type": "code",
   "execution_count": 23,
   "id": "5200f4a8",
   "metadata": {},
   "outputs": [
    {
     "name": "stdout",
     "output_type": "stream",
     "text": [
      "banana\n",
      "apple\n",
      "mango\n"
     ]
    }
   ],
   "source": [
    "fruits = {\"apple\", \"banana\", \"mango\"}\n",
    "my_function(fruits)"
   ]
  },
  {
   "cell_type": "code",
   "execution_count": 24,
   "id": "acc576b9",
   "metadata": {},
   "outputs": [],
   "source": [
    "#Recursion\n",
    "#Python supports function Recursion\n",
    "#Recursion means that a function is calling itself\n",
    "\n",
    "#be careful"
   ]
  },
  {
   "cell_type": "code",
   "execution_count": 25,
   "id": "62e7775a",
   "metadata": {},
   "outputs": [],
   "source": [
    "def recursion_example(k):\n",
    "    if(k>0):\n",
    "        result = k + recursion_example(k-1)\n",
    "        print(result)\n",
    "    else:\n",
    "        result = 0\n",
    "    return result"
   ]
  },
  {
   "cell_type": "code",
   "execution_count": 26,
   "id": "4cbd189a",
   "metadata": {},
   "outputs": [
    {
     "name": "stdout",
     "output_type": "stream",
     "text": [
      "\n",
      " \n",
      " Resursion Results\n",
      "1\n",
      "3\n",
      "6\n",
      "10\n",
      "15\n",
      "21\n",
      "28\n"
     ]
    },
    {
     "data": {
      "text/plain": [
       "28"
      ]
     },
     "execution_count": 26,
     "metadata": {},
     "output_type": "execute_result"
    }
   ],
   "source": [
    "print(\"\\n \\n Resursion Results\")\n",
    "recursion_example(7)"
   ]
  },
  {
   "cell_type": "code",
   "execution_count": 29,
   "id": "c47b5520",
   "metadata": {},
   "outputs": [
    {
     "name": "stdout",
     "output_type": "stream",
     "text": [
      "5000\n"
     ]
    }
   ],
   "source": [
    "# A lambda fn is a smal function\n",
    "# it can take any number of arguments but only one xpression\n",
    "# multiply the argument by 10  and return the result\n",
    "\n",
    "x = lambda y: y * 10\n",
    "print(x(500))\n"
   ]
  },
  {
   "cell_type": "code",
   "execution_count": 34,
   "id": "41e4c7e8",
   "metadata": {},
   "outputs": [],
   "source": [
    "#Python Classes/objects\n",
    "#Python is an Object Oriented Language\n",
    "#A class is like an object constructor , or a blueprint for creating objects\n",
    "\n",
    "# The init method is similar to constructor Java/C++\n",
    "#constructors are used for initializing the objects state\n",
    "#methods, collections statements\n",
    "# executed at the time of creation of the object\n",
    "#it runs when instantiated\n"
   ]
  },
  {
   "cell_type": "code",
   "execution_count": 37,
   "id": "cc4670ab",
   "metadata": {},
   "outputs": [],
   "source": [
    "class School:\n",
    "    def __init__(self,name,s_id,class_section):\n",
    "        self.name = name\n",
    "        self.s_id = s_id\n",
    "        self.class_section = class_section\n",
    "        "
   ]
  },
  {
   "cell_type": "code",
   "execution_count": 38,
   "id": "2fee5895",
   "metadata": {},
   "outputs": [],
   "source": [
    "p1 = School(\"John\", \"1729\", \"VIII-A\")"
   ]
  },
  {
   "cell_type": "code",
   "execution_count": 39,
   "id": "8af239ed",
   "metadata": {},
   "outputs": [
    {
     "name": "stdout",
     "output_type": "stream",
     "text": [
      "Students Name is     John\n",
      "Students id is     1729\n",
      "Students section is     VIII-A\n"
     ]
    }
   ],
   "source": [
    "print(\"Students Name is    \",p1.name)\n",
    "print(\"Students id is    \",p1.s_id)\n",
    "print(\"Students section is    \",p1.class_section)"
   ]
  },
  {
   "cell_type": "code",
   "execution_count": null,
   "id": "5245b865",
   "metadata": {},
   "outputs": [],
   "source": [
    "#Complete the program\n",
    "#The class name Time\n",
    "#give in Section 7.7 Time"
   ]
  }
 ],
 "metadata": {
  "kernelspec": {
   "display_name": "Python 3 (ipykernel)",
   "language": "python",
   "name": "python3"
  },
  "language_info": {
   "codemirror_mode": {
    "name": "ipython",
    "version": 3
   },
   "file_extension": ".py",
   "mimetype": "text/x-python",
   "name": "python",
   "nbconvert_exporter": "python",
   "pygments_lexer": "ipython3",
   "version": "3.11.4"
  }
 },
 "nbformat": 4,
 "nbformat_minor": 5
}
