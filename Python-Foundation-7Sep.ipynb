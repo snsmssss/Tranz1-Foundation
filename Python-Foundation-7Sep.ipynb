{
 "cells": [
  {
   "cell_type": "code",
   "execution_count": 158,
   "id": "e19539de",
   "metadata": {},
   "outputs": [],
   "source": [
    "#Object Methods\n",
    "#Objects can also contain methods or functions.\n",
    "#Functions/methods that are inside objects are functions/methods that belong to the object.\n",
    "#Self Parameter -When we call a method of this object as myobject.method(arg1, arg2), \n",
    "#this is automatically converted by Python into MyClass.method(myobject, arg1, arg2) –\n",
    "#this is all the special self is about. \n",
    "class School_class:\n",
    "  def __init__(self, name, s_id, class_section):\n",
    "    self.name = name\n",
    "    self.s_id = s_id\n",
    "    self.class_section = class_section\n",
    "  def __str__(self):\n",
    "    return f\"{self.name}({self.s_id},{self.class_section})\"\n",
    "  def myfunc(self):\n",
    "    print(\"Hello my name is \" + self.name)"
   ]
  },
  {
   "cell_type": "code",
   "execution_count": 159,
   "id": "5c0cc6ae",
   "metadata": {},
   "outputs": [],
   "source": [
    "p1 = School_class(\"Pragyan\", \"1369\", \"VIII-A\")"
   ]
  },
  {
   "cell_type": "code",
   "execution_count": 160,
   "id": "103172f1",
   "metadata": {},
   "outputs": [
    {
     "name": "stdout",
     "output_type": "stream",
     "text": [
      "Pragyan(1369,VIII-A)\n",
      "Hello my name is Pragyan\n"
     ]
    }
   ],
   "source": [
    "print(p1)\n",
    "p1.myfunc()"
   ]
  },
  {
   "cell_type": "code",
   "execution_count": 161,
   "id": "a12047dd",
   "metadata": {},
   "outputs": [],
   "source": [
    "class GFG:\n",
    "    def __init__(self, name, company):\n",
    "        self.name = name\n",
    "        self.company = company\n",
    "\n",
    "    def printname(self):\n",
    "        print(\"Hello my name is \" + self.name+\" and I\" +\" work in \"+self.company+\".\")"
   ]
  },
  {
   "cell_type": "code",
   "execution_count": 162,
   "id": "1c03ad3f",
   "metadata": {},
   "outputs": [
    {
     "name": "stdout",
     "output_type": "stream",
     "text": [
      "Hello my name is Vikram and I work in Ernest & Young.\n"
     ]
    }
   ],
   "source": [
    "obj = GFG(\"Vikram\", \"Ernest & Young\")\n",
    "obj.printname()"
   ]
  },
  {
   "cell_type": "code",
   "execution_count": 163,
   "id": "48c3f82c",
   "metadata": {},
   "outputs": [],
   "source": [
    "#Create a Child Class\n",
    "#To create a class that inherits the functionality from parent class,\n",
    "#send the parent class as a parameter when creating the child class:\n",
    "#Create a class named Friend, which will inherit the properties \n",
    "#and methods from the GFG class:"
   ]
  },
  {
   "cell_type": "code",
   "execution_count": 164,
   "id": "d1cd3949",
   "metadata": {},
   "outputs": [
    {
     "name": "stdout",
     "output_type": "stream",
     "text": [
      "Hello my name is Abi and I work in CTS.\n"
     ]
    }
   ],
   "source": [
    "class Friend(GFG):\n",
    "    pass\n",
    "x = Friend(\"Abi\", \"CTS\")\n",
    "x.printname()"
   ]
  },
  {
   "cell_type": "code",
   "execution_count": 165,
   "id": "00689d31",
   "metadata": {},
   "outputs": [],
   "source": [
    "#Add the __init__() Function\n",
    "#So far we have created a child class that inherits the properties and methods from its parent.\n",
    "#We want to add the __init__() function to the child class (instead of the pass keyword).\n",
    "#Add the __init__() function to the Student class:"
   ]
  },
  {
   "cell_type": "code",
   "execution_count": 166,
   "id": "1d54a891",
   "metadata": {},
   "outputs": [],
   "source": [
    "class Friend(GFG):\n",
    "  def __init__(self, name, company):\n",
    "    GFG.__init__(self,name,company)"
   ]
  },
  {
   "cell_type": "code",
   "execution_count": 167,
   "id": "7f6c84ce",
   "metadata": {},
   "outputs": [
    {
     "name": "stdout",
     "output_type": "stream",
     "text": [
      "Hello my name is Abi and I work in CTS.\n"
     ]
    }
   ],
   "source": [
    "x = Friend(\"Abi\", \"CTS\")\n",
    "x.printname()"
   ]
  },
  {
   "cell_type": "code",
   "execution_count": 168,
   "id": "c6256839",
   "metadata": {},
   "outputs": [],
   "source": [
    "#Use the super() Function\n",
    "#Python also has a super() function that will make the child class\n",
    "#inherit all the methods and properties from its parent:"
   ]
  },
  {
   "cell_type": "code",
   "execution_count": 176,
   "id": "41871ba2",
   "metadata": {},
   "outputs": [],
   "source": [
    "class Person:\n",
    "  def __init__(self, fname, lname):\n",
    "    self.firstname = fname\n",
    "    self.lastname = lname\n",
    "\n",
    "  def printname(self):\n",
    "    print(self.firstname, self.lastname)"
   ]
  },
  {
   "cell_type": "code",
   "execution_count": 177,
   "id": "4dfb59fa",
   "metadata": {},
   "outputs": [],
   "source": [
    "class Player(Person):\n",
    "  def __init__(self, fname, lname):\n",
    "    super().__init__(fname, lname)"
   ]
  },
  {
   "cell_type": "code",
   "execution_count": 179,
   "id": "cb53a204",
   "metadata": {},
   "outputs": [
    {
     "name": "stdout",
     "output_type": "stream",
     "text": [
      "Suryakumar Yadav\n"
     ]
    }
   ],
   "source": [
    "x = Player(\"Suryakumar\", \"Yadav\")\n",
    "x.printname()"
   ]
  },
  {
   "cell_type": "code",
   "execution_count": 181,
   "id": "b02ec6ab",
   "metadata": {},
   "outputs": [],
   "source": [
    "#Add Properties\n",
    "#Add a property called Debut year to the Student class:\n",
    "class Person:\n",
    "  def __init__(self, fname, lname):\n",
    "    self.firstname = fname\n",
    "    self.lastname = lname\n",
    "\n",
    "  def printname(self):\n",
    "    print(self.firstname, self.lastname)\n",
    "\n",
    "class Player(Person):\n",
    "  def __init__(self, fname, lname, year):\n",
    "    super().__init__(fname, lname)\n",
    "    self.debutyear = year"
   ]
  },
  {
   "cell_type": "code",
   "execution_count": 182,
   "id": "3d190b72",
   "metadata": {},
   "outputs": [
    {
     "name": "stdout",
     "output_type": "stream",
     "text": [
      "Suryakumar Yadav\n"
     ]
    },
    {
     "data": {
      "text/plain": [
       "2019"
      ]
     },
     "execution_count": 182,
     "metadata": {},
     "output_type": "execute_result"
    }
   ],
   "source": [
    "x = Player(\"Suryakumar\", \"Yadav\", 2019)\n",
    "x.printname()\n",
    "x.debutyear"
   ]
  },
  {
   "cell_type": "code",
   "execution_count": 184,
   "id": "406698b3",
   "metadata": {},
   "outputs": [],
   "source": [
    "#Add a method called welcome to the Player class:\n",
    "class Person:\n",
    "  def __init__(self, fname, lname):\n",
    "    self.firstname = fname\n",
    "    self.lastname = lname\n",
    "\n",
    "  def printname(self):\n",
    "    print(self.firstname, self.lastname)\n",
    "\n",
    "class Player(Person):\n",
    "  def __init__(self, fname, lname, year):\n",
    "    super().__init__(fname, lname)\n",
    "    self.debutyear = year\n",
    "\n",
    "  def welcome(self):\n",
    "    print(\"Welcome\", self.firstname, self.lastname, \"to the Indian team of\", self.debutyear)"
   ]
  },
  {
   "cell_type": "code",
   "execution_count": 185,
   "id": "6ae8e7ba",
   "metadata": {},
   "outputs": [
    {
     "name": "stdout",
     "output_type": "stream",
     "text": [
      "Welcome Suryakumar Yadav to the Indian team of 2019\n"
     ]
    }
   ],
   "source": [
    "x = Player(\"Suryakumar\", \"Yadav\", 2019)\n",
    "x.welcome()"
   ]
  },
  {
   "cell_type": "code",
   "execution_count": 140,
   "id": "3ea69ec4",
   "metadata": {},
   "outputs": [],
   "source": [
    "#Class Polymorphism\n",
    "#Polymorphism is often used in Class methods, \n",
    "#where we can have multiple classes with the same method name.\n",
    "#For example, say we have three classes: Car, Boat, and Plane, and they all have a method called move():"
   ]
  },
  {
   "cell_type": "code",
   "execution_count": 141,
   "id": "5b5625f7",
   "metadata": {},
   "outputs": [],
   "source": [
    "class Car:\n",
    "  def __init__(self, brand, model, year):\n",
    "    self.brand = brand\n",
    "    self.model = model\n",
    "    self.year = year\n",
    "\n",
    "  def move(self):\n",
    "    print(\"Drive a car!\", self.brand, self.model)\n",
    "\n",
    "class Boat:\n",
    "  def __init__(self, brand, model):\n",
    "    self.brand = brand\n",
    "    self.model = model\n",
    "\n",
    "  def move(self):\n",
    "    print(\"Sail in a Boat!\",self.brand, self.model)\n",
    "\n",
    "class Plane:\n",
    "  def __init__(self, brand, model):\n",
    "    self.brand = brand\n",
    "    self.model = model\n",
    "\n",
    "  def move(self):\n",
    "    print(\"Fly in a Plane!\",self.brand,self.model)\n"
   ]
  },
  {
   "cell_type": "code",
   "execution_count": 135,
   "id": "955f339d",
   "metadata": {},
   "outputs": [
    {
     "name": "stdout",
     "output_type": "stream",
     "text": [
      "Drive a car! Ford Mustang\n",
      "Sail in a Boat! Ibiza Touring 20\n",
      "Fly in a Plane! Boeing 747\n"
     ]
    }
   ],
   "source": [
    "car1   = Car(\"Ford\", \"Mustang\", 2015)       #Create a Car class\n",
    "boat1  = Boat(\"Ibiza\", \"Touring 20\") #Create a Boat class\n",
    "plane1 = Plane(\"Boeing\", \"747\")     #Create a Plane class\n",
    "\n",
    "for x in (car1, boat1, plane1):\n",
    "  x.move()"
   ]
  },
  {
   "cell_type": "code",
   "execution_count": null,
   "id": "1d7de51d",
   "metadata": {},
   "outputs": [],
   "source": [
    "#Inheritance Class Polymorphism\n",
    "#What about classes with child classes with the same name?\n",
    "#Can we use polymorphism there?\n",
    "\n",
    "#Child classes inherit the properties and methods from the parent class.\n",
    "#In the example below you can see that the Car class is empty, but it inherits\n",
    "#brand, model, and move() from Vehicle.\n",
    "#\n",
    "#The Boat and Plane classes also inherit brand, model, and move() from Vehicle,\n",
    "#but they both override the move() method.\n",
    "#Because of polymorphism we can execute the same method for all classes."
   ]
  },
  {
   "cell_type": "code",
   "execution_count": 142,
   "id": "304939cb",
   "metadata": {},
   "outputs": [],
   "source": [
    "\n",
    "class Vehicle:\n",
    "  def __init__(self, brand, model):\n",
    "    self.brand = brand\n",
    "    self.model = model\n",
    "\n",
    "  def move(self):\n",
    "    print(\"Move!\")\n",
    "\n",
    "class Car(Vehicle):\n",
    "  pass\n",
    "\n",
    "class Boat(Vehicle):\n",
    "  def move(self):\n",
    "    print(\"Sail!\")\n",
    "\n",
    "class Plane(Vehicle):\n",
    "  def move(self):\n",
    "    print(\"Fly!\")"
   ]
  },
  {
   "cell_type": "code",
   "execution_count": 143,
   "id": "dca46d75",
   "metadata": {},
   "outputs": [
    {
     "name": "stdout",
     "output_type": "stream",
     "text": [
      "Ford\n",
      "Mustang\n",
      "Move!\n",
      "Ibiza\n",
      "Touring 20\n",
      "Sail!\n",
      "Boeing\n",
      "747\n",
      "Fly!\n"
     ]
    }
   ],
   "source": [
    "car1 = Car(\"Ford\", \"Mustang\") #Create a Car object\n",
    "boat1 = Boat(\"Ibiza\", \"Touring 20\") #Create a Boat object\n",
    "plane1 = Plane(\"Boeing\", \"747\") #Create a Plane object\n",
    "\n",
    "for x in (car1, boat1, plane1):\n",
    "  print(x.brand)\n",
    "  print(x.model)\n",
    "  x.move()"
   ]
  },
  {
   "cell_type": "code",
   "execution_count": 147,
   "id": "d0bd341f",
   "metadata": {},
   "outputs": [
    {
     "name": "stdout",
     "output_type": "stream",
     "text": [
      "An exception occurred\n"
     ]
    }
   ],
   "source": [
    "#The try block will generate an error, because x is not defined:\n",
    "try:\n",
    "  print(bat)\n",
    "except:\n",
    "  print(\"An exception occurred\")\n"
   ]
  },
  {
   "cell_type": "code",
   "execution_count": 148,
   "id": "12a8c1bc",
   "metadata": {},
   "outputs": [],
   "source": [
    "#Many Exceptions\n",
    "#You can define as many exception blocks as you want,\n",
    "#e.g. if you want to execute a special block of code for a special kind of error:\n",
    "\n",
    "#Example\n",
    "#Print one message if the try block raises a NameError and another for other errors:"
   ]
  },
  {
   "cell_type": "code",
   "execution_count": 152,
   "id": "7c37daf7",
   "metadata": {},
   "outputs": [
    {
     "name": "stdout",
     "output_type": "stream",
     "text": [
      "Variable Z is not defined\n"
     ]
    }
   ],
   "source": [
    "#The try block will generate a NameError, because x is not defined:\n",
    "\n",
    "try:\n",
    "  print(Z)\n",
    "except NameError:\n",
    "  print(\"Variable Z is not defined\")\n",
    "except:\n",
    "  print(\"Something else went wrong\")"
   ]
  },
  {
   "cell_type": "code",
   "execution_count": 149,
   "id": "929c101f",
   "metadata": {},
   "outputs": [
    {
     "name": "stdout",
     "output_type": "stream",
     "text": [
      "Hello\n",
      "Nothing went wrong\n"
     ]
    }
   ],
   "source": [
    "#The try block does not raise any errors, so the else block is executed:\n",
    "\n",
    "try:\n",
    "  print(\"Hello\")\n",
    "except:\n",
    "  print(\"Something went wrong\")\n",
    "else:\n",
    "  print(\"Nothing went wrong\")\n"
   ]
  },
  {
   "cell_type": "code",
   "execution_count": 153,
   "id": "bb208bee",
   "metadata": {},
   "outputs": [],
   "source": [
    "#Python has a set of built-in math functions, including an extensive math module,\n",
    "#that allows you to perform mathematical tasks on numbers.\n",
    "#Built-in Math Functions\n",
    "#The min() and max() functions can be used to find the lowest or highest value in\n",
    "#an iterable:\n"
   ]
  },
  {
   "cell_type": "code",
   "execution_count": 154,
   "id": "df97d8b8",
   "metadata": {},
   "outputs": [
    {
     "name": "stdout",
     "output_type": "stream",
     "text": [
      "5\n",
      "25\n"
     ]
    }
   ],
   "source": [
    "x = min(5, 10, 25)\n",
    "y = max(5, 10, 25)\n",
    "\n",
    "print(x)\n",
    "print(y)"
   ]
  },
  {
   "cell_type": "code",
   "execution_count": 155,
   "id": "70623c4d",
   "metadata": {},
   "outputs": [
    {
     "name": "stdout",
     "output_type": "stream",
     "text": [
      "7.25\n"
     ]
    }
   ],
   "source": [
    "x = abs(-7.25)\n",
    "print(x)"
   ]
  },
  {
   "cell_type": "code",
   "execution_count": 156,
   "id": "364a73da",
   "metadata": {},
   "outputs": [
    {
     "name": "stdout",
     "output_type": "stream",
     "text": [
      "64\n"
     ]
    }
   ],
   "source": [
    "\n",
    "#Return the value of 4 to the power of 3 (same as 4 * 4 * 4):\n",
    "x = pow(4, 3)\n",
    "print(x)"
   ]
  },
  {
   "cell_type": "code",
   "execution_count": 157,
   "id": "81e24638",
   "metadata": {},
   "outputs": [
    {
     "name": "stdout",
     "output_type": "stream",
     "text": [
      "2\n",
      "1\n"
     ]
    }
   ],
   "source": [
    "#The math.ceil() method rounds a number upwards to its nearest integer,\n",
    "#and the math.floor() method rounds a number downwards to its nearest integer, and returns the result:\n",
    "\n",
    "import math\n",
    "x = math.ceil(1.4)\n",
    "y = math.floor(1.4)\n",
    "\n",
    "print(x) # returns 2\n",
    "print(y) # returns 1"
   ]
  },
  {
   "cell_type": "code",
   "execution_count": null,
   "id": "9d29ec96",
   "metadata": {},
   "outputs": [],
   "source": []
  }
 ],
 "metadata": {
  "kernelspec": {
   "display_name": "Python 3 (ipykernel)",
   "language": "python",
   "name": "python3"
  },
  "language_info": {
   "codemirror_mode": {
    "name": "ipython",
    "version": 3
   },
   "file_extension": ".py",
   "mimetype": "text/x-python",
   "name": "python",
   "nbconvert_exporter": "python",
   "pygments_lexer": "ipython3",
   "version": "3.11.4"
  }
 },
 "nbformat": 4,
 "nbformat_minor": 5
}
